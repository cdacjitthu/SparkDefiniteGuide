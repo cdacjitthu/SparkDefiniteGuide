{
 "cells": [
  {
   "cell_type": "code",
   "execution_count": 1,
   "metadata": {},
   "outputs": [],
   "source": [
    "from pyspark.sql import SparkSession\n",
    "spark = SparkSession\\\n",
    "  .builder\\\n",
    "  .appName(\"SDG_Chapter15\")\\\n",
    "  .getOrCreate()\n",
    "sc = spark.sparkContext"
   ]
  },
  {
   "cell_type": "code",
   "execution_count": 3,
   "metadata": {},
   "outputs": [
    {
     "name": "stdout",
     "output_type": "stream",
     "text": [
      "== Physical Plan ==\n",
      "*(4) HashAggregate(keys=[], functions=[sum(id#14L)])\n",
      "+- Exchange SinglePartition\n",
      "   +- *(3) HashAggregate(keys=[], functions=[partial_sum(id#14L)])\n",
      "      +- *(3) Project [id#14L]\n",
      "         +- *(3) BroadcastHashJoin [id#14L], [id#10L], Inner, BuildRight\n",
      "            :- *(3) Project [(id#8L * 5) AS id#14L]\n",
      "            :  +- Exchange RoundRobinPartitioning(5)\n",
      "            :     +- *(1) Range (2, 1000000, step=2, splits=2)\n",
      "            +- BroadcastExchange HashedRelationBroadcastMode(List(input[0, bigint, false]))\n",
      "               +- Exchange RoundRobinPartitioning(6)\n",
      "                  +- *(2) Range (2, 1000000, step=4, splits=2)\n"
     ]
    }
   ],
   "source": [
    "df1 = spark.range(2, 1000000, 2)\n",
    "df2 = spark.range(2, 1000000, 4)\n",
    "step1 = df1.repartition(5)\n",
    "step12 = df2.repartition(6)\n",
    "step2 = step1.selectExpr(\"id * 5 as id\")\n",
    "step3 = step2.join(step12, [\"id\"])\n",
    "step4 = step3.selectExpr(\"sum(id)\")\n",
    "step4.explain()"
   ]
  },
  {
   "cell_type": "code",
   "execution_count": null,
   "metadata": {},
   "outputs": [],
   "source": []
  }
 ],
 "metadata": {
  "kernelspec": {
   "display_name": "Python 3",
   "language": "python",
   "name": "python3"
  },
  "language_info": {
   "codemirror_mode": {
    "name": "ipython",
    "version": 3
   },
   "file_extension": ".py",
   "mimetype": "text/x-python",
   "name": "python",
   "nbconvert_exporter": "python",
   "pygments_lexer": "ipython3",
   "version": "3.6.8"
  }
 },
 "nbformat": 4,
 "nbformat_minor": 4
}
