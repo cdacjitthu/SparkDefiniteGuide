{
 "cells": [
  {
   "cell_type": "code",
   "execution_count": 1,
   "metadata": {},
   "outputs": [],
   "source": [
    "from pyspark.sql import SparkSession\n",
    "spark = SparkSession\\\n",
    "  .builder\\\n",
    "  .appName(\"SGD_Chapter07\")\\\n",
    "  .getOrCreate()"
   ]
  },
  {
   "cell_type": "code",
   "execution_count": 17,
   "metadata": {},
   "outputs": [
    {
     "data": {
      "text/plain": [
       "[1.0, 2.0, 3.2]"
      ]
     },
     "execution_count": 17,
     "metadata": {},
     "output_type": "execute_result"
    }
   ],
   "source": [
    "import numpy as np\n",
    "arr = np.array([1.0, 2.0, 3.2])\n",
    "arr.tolist()"
   ]
  },
  {
   "cell_type": "code",
   "execution_count": 18,
   "metadata": {},
   "outputs": [],
   "source": [
    "from pyspark.sql.types import StructType, StructField, FloatType\n",
    "from pyspark.sql.functions import lit\n",
    "from pyspark.sql import SQLContext\n",
    "sc = spark.sparkContext\n",
    "sqlContext = SQLContext(spark)\n",
    "# arrSchema = StructType([StructField(\"arr\", FloatType(), True)])\n",
    "# r_rdd = sc.parallelize(arr.tolist)\n",
    "df_arr = spark.createDataFrame(arr.tolist(), FloatType())"
   ]
  },
  {
   "cell_type": "code",
   "execution_count": 19,
   "metadata": {},
   "outputs": [
    {
     "name": "stdout",
     "output_type": "stream",
     "text": [
      "+-----+\n",
      "|value|\n",
      "+-----+\n",
      "|  1.0|\n",
      "|  2.0|\n",
      "|  3.2|\n",
      "+-----+\n",
      "\n"
     ]
    }
   ],
   "source": [
    "df_arr.show()"
   ]
  },
  {
   "cell_type": "code",
   "execution_count": 20,
   "metadata": {},
   "outputs": [],
   "source": [
    "df = spark.read.format(\"csv\")\\\n",
    "  .option(\"header\", \"true\")\\\n",
    "  .option(\"inferSchema\", \"true\")\\\n",
    "  .load(\"/home/jagadeesh/git/Spark-The-Definitive-Guide/data/retail-data/all/*.csv\")\\\n",
    "  .coalesce(5)\n",
    "df.cache()\n",
    "df.createOrReplaceTempView(\"dfTable\")"
   ]
  },
  {
   "cell_type": "code",
   "execution_count": 21,
   "metadata": {},
   "outputs": [
    {
     "data": {
      "text/plain": [
       "True"
      ]
     },
     "execution_count": 21,
     "metadata": {},
     "output_type": "execute_result"
    }
   ],
   "source": [
    "# count method used as an action\n",
    "df.count() == 541909"
   ]
  },
  {
   "cell_type": "code",
   "execution_count": 22,
   "metadata": {},
   "outputs": [
    {
     "data": {
      "text/plain": [
       "541909"
      ]
     },
     "execution_count": 22,
     "metadata": {},
     "output_type": "execute_result"
    }
   ],
   "source": [
    "df.count()"
   ]
  },
  {
   "cell_type": "code",
   "execution_count": 23,
   "metadata": {},
   "outputs": [
    {
     "name": "stdout",
     "output_type": "stream",
     "text": [
      "+----------------+\n",
      "|count(StockCode)|\n",
      "+----------------+\n",
      "|          541909|\n",
      "+----------------+\n",
      "\n"
     ]
    }
   ],
   "source": [
    "# count method is used as a Lazy evalution(transformation) \n",
    "from pyspark.sql.functions import count\n",
    "df.select(count(\"StockCode\")).show()"
   ]
  },
  {
   "cell_type": "code",
   "execution_count": 24,
   "metadata": {},
   "outputs": [
    {
     "name": "stdout",
     "output_type": "stream",
     "text": [
      "+--------+\n",
      "|count(1)|\n",
      "+--------+\n",
      "|  541909|\n",
      "+--------+\n",
      "\n"
     ]
    }
   ],
   "source": [
    "# count(*) --> count null values (including rows containing all nulls)\n",
    "# count(\"col_name\") --> spark will not count the null values, when counting an individual column\n",
    "df.select(count(\"*\")).show()"
   ]
  },
  {
   "cell_type": "code",
   "execution_count": 25,
   "metadata": {},
   "outputs": [
    {
     "name": "stdout",
     "output_type": "stream",
     "text": [
      "root\n",
      " |-- InvoiceNo: string (nullable = true)\n",
      " |-- StockCode: string (nullable = true)\n",
      " |-- Description: string (nullable = true)\n",
      " |-- Quantity: integer (nullable = true)\n",
      " |-- InvoiceDate: string (nullable = true)\n",
      " |-- UnitPrice: double (nullable = true)\n",
      " |-- CustomerID: integer (nullable = true)\n",
      " |-- Country: string (nullable = true)\n",
      "\n"
     ]
    }
   ],
   "source": [
    "df.printSchema()"
   ]
  },
  {
   "cell_type": "code",
   "execution_count": 26,
   "metadata": {},
   "outputs": [
    {
     "name": "stdout",
     "output_type": "stream",
     "text": [
      "+-------------------------+\n",
      "|count(DISTINCT StockCode)|\n",
      "+-------------------------+\n",
      "|                     4070|\n",
      "+-------------------------+\n",
      "\n"
     ]
    }
   ],
   "source": [
    "from pyspark.sql.functions import countDistinct\n",
    "df.select(countDistinct(\"StockCode\")).show()"
   ]
  },
  {
   "cell_type": "code",
   "execution_count": 27,
   "metadata": {},
   "outputs": [
    {
     "name": "stdout",
     "output_type": "stream",
     "text": [
      "+-------------------------+\n",
      "|count(DISTINCT InvoiceNo)|\n",
      "+-------------------------+\n",
      "|                    25900|\n",
      "+-------------------------+\n",
      "\n"
     ]
    }
   ],
   "source": [
    "df.select(countDistinct(\"InvoiceNo\")).show()"
   ]
  },
  {
   "cell_type": "code",
   "execution_count": 28,
   "metadata": {},
   "outputs": [
    {
     "name": "stdout",
     "output_type": "stream",
     "text": [
      "+--------------------------------+\n",
      "|approx_count_distinct(StockCode)|\n",
      "+--------------------------------+\n",
      "|                            3804|\n",
      "+--------------------------------+\n",
      "\n"
     ]
    }
   ],
   "source": [
    "from pyspark.sql.functions import approx_count_distinct\n",
    "df.select(approx_count_distinct(\"StockCode\")).show()"
   ]
  },
  {
   "cell_type": "code",
   "execution_count": 29,
   "metadata": {},
   "outputs": [
    {
     "name": "stdout",
     "output_type": "stream",
     "text": [
      "+-------------+-------------+-----------------------+----------------------+-------------+----------------------+\n",
      "|min(Quantity)|max(Quantity)|first(StockCode, false)|last(StockCode, false)|sum(Quantity)|sum(DISTINCT Quantity)|\n",
      "+-------------+-------------+-----------------------+----------------------+-------------+----------------------+\n",
      "|       -80995|        80995|                  22030|                85099B|      5176450|                 29310|\n",
      "+-------------+-------------+-----------------------+----------------------+-------------+----------------------+\n",
      "\n"
     ]
    }
   ],
   "source": [
    "from pyspark.sql.functions import first, last, min, max, sum, avg, sumDistinct\n",
    "df.select(min(\"Quantity\"), max(\"Quantity\"), first(\"StockCode\"), last(\"StockCode\"), sum(\"Quantity\"), sumDistinct(\"Quantity\")).show()"
   ]
  },
  {
   "cell_type": "code",
   "execution_count": 30,
   "metadata": {},
   "outputs": [
    {
     "name": "stdout",
     "output_type": "stream",
     "text": [
      "+-------------------------------------+----------------+----------------+\n",
      "|(total_purchases / total_transctions)|   avg_purchases|  mean_purchases|\n",
      "+-------------------------------------+----------------+----------------+\n",
      "|                     9.55224954743324|9.55224954743324|9.55224954743324|\n",
      "+-------------------------------------+----------------+----------------+\n",
      "\n"
     ]
    }
   ],
   "source": [
    "from pyspark.sql.functions import expr, avg\n",
    "df.select(\n",
    "  count(\"Quantity\").alias(\"total_transctions\"),\n",
    "  sum(\"Quantity\").alias(\"total_purchases\"),\n",
    "  avg(\"Quantity\").alias(\"avg_purchases\"),\n",
    "  expr(\"mean(Quantity)\").alias(\"mean_purchases\"))\\\n",
    "  .selectExpr(\n",
    "  \"total_purchases/total_transctions\",\n",
    "  \"avg_purchases\",\n",
    "  \"mean_purchases\").show()"
   ]
  },
  {
   "cell_type": "code",
   "execution_count": 32,
   "metadata": {},
   "outputs": [
    {
     "name": "stderr",
     "output_type": "stream",
     "text": [
      "IOPub data rate exceeded.\n",
      "The notebook server will temporarily stop sending output\n",
      "to the client in order to avoid crashing it.\n",
      "To change this limit, set the config variable\n",
      "`--NotebookApp.iopub_data_rate_limit`.\n",
      "\n",
      "Current values:\n",
      "NotebookApp.iopub_data_rate_limit=1000000.0 (bytes/sec)\n",
      "NotebookApp.rate_limit_window=3.0 (secs)\n",
      "\n"
     ]
    }
   ],
   "source": [
    "from pyspark.sql.functions import collect_set, collect_list\n",
    "df.agg(collect_set(\"Country\"), collect_list(\"Country\")).show(5, False)"
   ]
  },
  {
   "cell_type": "code",
   "execution_count": 33,
   "metadata": {},
   "outputs": [
    {
     "name": "stdout",
     "output_type": "stream",
     "text": [
      "+---------+----------+-----+\n",
      "|InvoiceNo|CustomerId|count|\n",
      "+---------+----------+-----+\n",
      "|   536846|     14573|   76|\n",
      "|   537026|     12395|   12|\n",
      "|   537883|     14437|    5|\n",
      "|   538068|     17978|   12|\n",
      "|   538279|     14952|    7|\n",
      "|   538800|     16458|   10|\n",
      "|   538942|     17346|   12|\n",
      "|  C539947|     13854|    1|\n",
      "|   540096|     13253|   16|\n",
      "|   540530|     14755|   27|\n",
      "|   541225|     14099|   19|\n",
      "|   541978|     13551|    4|\n",
      "|   542093|     17677|   16|\n",
      "|   543188|     12567|   63|\n",
      "|   543590|     17377|   19|\n",
      "|  C543757|     13115|    1|\n",
      "|  C544318|     12989|    1|\n",
      "|   544578|     12365|    1|\n",
      "|   545165|     16339|   20|\n",
      "|   545289|     14732|   30|\n",
      "+---------+----------+-----+\n",
      "only showing top 20 rows\n",
      "\n"
     ]
    }
   ],
   "source": [
    "df.groupBy(\"InvoiceNo\", \"CustomerId\").count().show()"
   ]
  },
  {
   "cell_type": "code",
   "execution_count": 34,
   "metadata": {},
   "outputs": [
    {
     "name": "stdout",
     "output_type": "stream",
     "text": [
      "+---------+-----+\n",
      "|InvoiceNo|count|\n",
      "+---------+-----+\n",
      "|   536596|    6|\n",
      "|   536938|   14|\n",
      "|   537252|    1|\n",
      "|   537691|   20|\n",
      "|   538041|    1|\n",
      "|   538184|   26|\n",
      "|   538517|   53|\n",
      "|   538879|   19|\n",
      "|   539275|    6|\n",
      "|   539630|   12|\n",
      "|   540499|   24|\n",
      "|   540540|   22|\n",
      "|  C540850|    1|\n",
      "|   540976|   48|\n",
      "|   541432|    4|\n",
      "|   541518|  101|\n",
      "|   541783|   35|\n",
      "|   542026|    9|\n",
      "|   542375|    6|\n",
      "|  C542604|    8|\n",
      "+---------+-----+\n",
      "only showing top 20 rows\n",
      "\n"
     ]
    }
   ],
   "source": [
    "df.groupby(\"InvoiceNo\").count().show()"
   ]
  },
  {
   "cell_type": "code",
   "execution_count": 36,
   "metadata": {},
   "outputs": [
    {
     "name": "stdout",
     "output_type": "stream",
     "text": [
      "+---------+----+---------------+\n",
      "|InvoiceNo|quan|count(Quantity)|\n",
      "+---------+----+---------------+\n",
      "|   536596|   6|              6|\n",
      "|   536938|  14|             14|\n",
      "|   537252|   1|              1|\n",
      "|   537691|  20|             20|\n",
      "|   538041|   1|              1|\n",
      "|   538184|  26|             26|\n",
      "|   538517|  53|             53|\n",
      "|   538879|  19|             19|\n",
      "|   539275|   6|              6|\n",
      "|   539630|  12|             12|\n",
      "|   540499|  24|             24|\n",
      "|   540540|  22|             22|\n",
      "|  C540850|   1|              1|\n",
      "|   540976|  48|             48|\n",
      "|   541432|   4|              4|\n",
      "|   541518| 101|            101|\n",
      "|   541783|  35|             35|\n",
      "|   542026|   9|              9|\n",
      "|   542375|   6|              6|\n",
      "|  C542604|   8|              8|\n",
      "+---------+----+---------------+\n",
      "only showing top 20 rows\n",
      "\n"
     ]
    }
   ],
   "source": [
    "from pyspark.sql.functions import count\n",
    "df.groupBy(\"InvoiceNo\").agg(\n",
    "   count(\"Quantity\").alias(\"quan\"),\n",
    "   expr(\"count(Quantity)\")).show()"
   ]
  },
  {
   "cell_type": "code",
   "execution_count": 39,
   "metadata": {},
   "outputs": [
    {
     "name": "stdout",
     "output_type": "stream",
     "text": [
      "+---------+--------+\n",
      "|InvoiceNo|Quantity|\n",
      "+---------+--------+\n",
      "|   536365|       6|\n",
      "|   536365|       6|\n",
      "|   536365|       8|\n",
      "|   536365|       6|\n",
      "|   536365|       6|\n",
      "|   536365|       2|\n",
      "|   536365|       6|\n",
      "|   536366|       6|\n",
      "|   536366|       6|\n",
      "|   536367|      32|\n",
      "|   536367|       6|\n",
      "|   536367|       6|\n",
      "|   536367|       8|\n",
      "|   536367|       6|\n",
      "|   536367|       6|\n",
      "|   536367|       3|\n",
      "|   536367|       2|\n",
      "|   536367|       3|\n",
      "|   536367|       3|\n",
      "|   536367|       4|\n",
      "+---------+--------+\n",
      "only showing top 20 rows\n",
      "\n"
     ]
    }
   ],
   "source": [
    "df.selectExpr(\"InvoiceNo\", \"Quantity\").show()"
   ]
  },
  {
   "cell_type": "code",
   "execution_count": 62,
   "metadata": {},
   "outputs": [
    {
     "name": "stdout",
     "output_type": "stream",
     "text": [
      "+--------------------+------+\n",
      "|(InvoiceNo = 536367)| count|\n",
      "+--------------------+------+\n",
      "|                null|  9291|\n",
      "|                true|    12|\n",
      "|               false|532606|\n",
      "+--------------------+------+\n",
      "\n"
     ]
    }
   ],
   "source": [
    "from pyspark.sql.functions import stddev_pop, asc, desc\n",
    "df.groupBy(col(\"InvoiceNo\")==536367).count().show()"
   ]
  },
  {
   "cell_type": "code",
   "execution_count": 63,
   "metadata": {},
   "outputs": [
    {
     "name": "stdout",
     "output_type": "stream",
     "text": [
      "+---------+----+\n",
      "|InvoiceNo|quan|\n",
      "+---------+----+\n",
      "|   536596|   6|\n",
      "|   536938|  14|\n",
      "|   537252|   1|\n",
      "|   537691|  20|\n",
      "|   538041|   1|\n",
      "|   538184|  26|\n",
      "|   538517|  53|\n",
      "|   538879|  19|\n",
      "|   539275|   6|\n",
      "|   539630|  12|\n",
      "|   540499|  24|\n",
      "|   540540|  22|\n",
      "|  C540850|   1|\n",
      "|   540976|  48|\n",
      "|   541432|   4|\n",
      "|   541518| 101|\n",
      "|   541783|  35|\n",
      "|   542026|   9|\n",
      "|   542375|   6|\n",
      "|  C542604|   8|\n",
      "+---------+----+\n",
      "only showing top 20 rows\n",
      "\n"
     ]
    }
   ],
   "source": [
    "from pyspark.sql.functions import col\n",
    "df.groupby(\"InvoiceNo\").agg(\n",
    "   count(\"Quantity\").alias(\"quan\")).show()"
   ]
  },
  {
   "cell_type": "code",
   "execution_count": 78,
   "metadata": {},
   "outputs": [
    {
     "name": "stdout",
     "output_type": "stream",
     "text": [
      "+---------+---------+--------------------+--------+--------------+---------+----------+--------------+\n",
      "|InvoiceNo|StockCode|         Description|Quantity|   InvoiceDate|UnitPrice|CustomerID|       Country|\n",
      "+---------+---------+--------------------+--------+--------------+---------+----------+--------------+\n",
      "|   536367|    84879|ASSORTED COLOUR B...|      32|12/1/2010 8:34|     1.69|     13047|United Kingdom|\n",
      "|   536367|    22745|POPPY'S PLAYHOUSE...|       6|12/1/2010 8:34|      2.1|     13047|United Kingdom|\n",
      "|   536367|    22748|POPPY'S PLAYHOUSE...|       6|12/1/2010 8:34|      2.1|     13047|United Kingdom|\n",
      "|   536367|    22749|FELTCRAFT PRINCES...|       8|12/1/2010 8:34|     3.75|     13047|United Kingdom|\n",
      "|   536367|    22310|IVORY KNITTED MUG...|       6|12/1/2010 8:34|     1.65|     13047|United Kingdom|\n",
      "|   536367|    84969|BOX OF 6 ASSORTED...|       6|12/1/2010 8:34|     4.25|     13047|United Kingdom|\n",
      "|   536367|    22623|BOX OF VINTAGE JI...|       3|12/1/2010 8:34|     4.95|     13047|United Kingdom|\n",
      "|   536367|    22622|BOX OF VINTAGE AL...|       2|12/1/2010 8:34|     9.95|     13047|United Kingdom|\n",
      "|   536367|    21754|HOME BUILDING BLO...|       3|12/1/2010 8:34|     5.95|     13047|United Kingdom|\n",
      "|   536367|    21755|LOVE BUILDING BLO...|       3|12/1/2010 8:34|     5.95|     13047|United Kingdom|\n",
      "|   536367|    21777|RECIPE BOX WITH M...|       4|12/1/2010 8:34|     7.95|     13047|United Kingdom|\n",
      "|   536367|    48187| DOORMAT NEW ENGLAND|       4|12/1/2010 8:34|     7.95|     13047|United Kingdom|\n",
      "+---------+---------+--------------------+--------+--------------+---------+----------+--------------+\n",
      "\n"
     ]
    }
   ],
   "source": [
    "from pyspark.sql.functions import instr\n",
    "df.where(col(\"InvoiceNo\") == 536367).select(\"*\").show()"
   ]
  },
  {
   "cell_type": "code",
   "execution_count": 73,
   "metadata": {},
   "outputs": [
    {
     "name": "stdout",
     "output_type": "stream",
     "text": [
      "+---------+------------------+--------------------+\n",
      "|InvoiceNo|     avg(Quantity)|stddev_pop(Quantity)|\n",
      "+---------+------------------+--------------------+\n",
      "|   536596|               1.5|  1.1180339887498947|\n",
      "|   536938|33.142857142857146|  20.698023172885524|\n",
      "|   537252|              31.0|                 0.0|\n",
      "|   537691|              8.15|   5.597097462078001|\n",
      "|   538041|              30.0|                 0.0|\n",
      "|   538184|12.076923076923077|   8.142590198943392|\n",
      "|   538517|3.0377358490566038|  2.3946659604837897|\n",
      "|   538879|21.157894736842106|  11.811070444356483|\n",
      "|   539275|              26.0|  12.806248474865697|\n",
      "|   539630|20.333333333333332|  10.225241100118645|\n",
      "|   540499|              3.75|  2.6653642652865788|\n",
      "|   540540|2.1363636363636362|  1.0572457590557278|\n",
      "|  C540850|              -1.0|                 0.0|\n",
      "|   540976|10.520833333333334|   6.496760677872902|\n",
      "|   541432|             12.25|  10.825317547305483|\n",
      "|   541518| 23.10891089108911|  20.550782784878713|\n",
      "|   541783|11.314285714285715|   8.467657556242811|\n",
      "|   542026| 7.666666666666667|   4.853406592853679|\n",
      "|   542375|               8.0|  3.4641016151377544|\n",
      "|  C542604|              -8.0|  15.173990905493518|\n",
      "+---------+------------------+--------------------+\n",
      "only showing top 20 rows\n",
      "\n"
     ]
    }
   ],
   "source": [
    "df.groupBy(\"InvoiceNo\").agg(expr(\"avg(Quantity)\"), expr(\"stddev_pop(Quantity)\")).show()"
   ]
  },
  {
   "cell_type": "code",
   "execution_count": 79,
   "metadata": {},
   "outputs": [],
   "source": [
    "from pyspark.sql.functions import col, to_date\n",
    "dfWithDate = df.withColumn(\"date\", to_date(col(\"InvoiceDate\"), \"MM/d/yyyy H:mm\"))\n",
    "dfWithDate.createOrReplaceTempView(\"dfWithDate\")"
   ]
  },
  {
   "cell_type": "code",
   "execution_count": 81,
   "metadata": {},
   "outputs": [
    {
     "name": "stdout",
     "output_type": "stream",
     "text": [
      "+---------+---------+--------------------+--------+--------------+---------+----------+--------------+----------+\n",
      "|InvoiceNo|StockCode|         Description|Quantity|   InvoiceDate|UnitPrice|CustomerID|       Country|      date|\n",
      "+---------+---------+--------------------+--------+--------------+---------+----------+--------------+----------+\n",
      "|   536367|    84879|ASSORTED COLOUR B...|      32|12/1/2010 8:34|     1.69|     13047|United Kingdom|2010-12-01|\n",
      "|   536367|    22745|POPPY'S PLAYHOUSE...|       6|12/1/2010 8:34|      2.1|     13047|United Kingdom|2010-12-01|\n",
      "|   536367|    22748|POPPY'S PLAYHOUSE...|       6|12/1/2010 8:34|      2.1|     13047|United Kingdom|2010-12-01|\n",
      "|   536367|    22749|FELTCRAFT PRINCES...|       8|12/1/2010 8:34|     3.75|     13047|United Kingdom|2010-12-01|\n",
      "|   536367|    22310|IVORY KNITTED MUG...|       6|12/1/2010 8:34|     1.65|     13047|United Kingdom|2010-12-01|\n",
      "|   536367|    84969|BOX OF 6 ASSORTED...|       6|12/1/2010 8:34|     4.25|     13047|United Kingdom|2010-12-01|\n",
      "|   536367|    22623|BOX OF VINTAGE JI...|       3|12/1/2010 8:34|     4.95|     13047|United Kingdom|2010-12-01|\n",
      "|   536367|    22622|BOX OF VINTAGE AL...|       2|12/1/2010 8:34|     9.95|     13047|United Kingdom|2010-12-01|\n",
      "|   536367|    21754|HOME BUILDING BLO...|       3|12/1/2010 8:34|     5.95|     13047|United Kingdom|2010-12-01|\n",
      "|   536367|    21755|LOVE BUILDING BLO...|       3|12/1/2010 8:34|     5.95|     13047|United Kingdom|2010-12-01|\n",
      "|   536367|    21777|RECIPE BOX WITH M...|       4|12/1/2010 8:34|     7.95|     13047|United Kingdom|2010-12-01|\n",
      "|   536367|    48187| DOORMAT NEW ENGLAND|       4|12/1/2010 8:34|     7.95|     13047|United Kingdom|2010-12-01|\n",
      "|   536368|    22960|JAM MAKING SET WI...|       6|12/1/2010 8:34|     4.25|     13047|United Kingdom|2010-12-01|\n",
      "|   536368|    22913|RED COAT RACK PAR...|       3|12/1/2010 8:34|     4.95|     13047|United Kingdom|2010-12-01|\n",
      "|   536368|    22912|YELLOW COAT RACK ...|       3|12/1/2010 8:34|     4.95|     13047|United Kingdom|2010-12-01|\n",
      "|   536368|    22914|BLUE COAT RACK PA...|       3|12/1/2010 8:34|     4.95|     13047|United Kingdom|2010-12-01|\n",
      "|   536369|    21756|BATH BUILDING BLO...|       3|12/1/2010 8:35|     5.95|     13047|United Kingdom|2010-12-01|\n",
      "|  C540391|    22274|FELTCRAFT DOLL EMILY|      -1|1/6/2011 18:02|     2.95|     13047|United Kingdom|2011-01-06|\n",
      "|   543113|   16161P|  WRAP ENGLISH ROSE |      25|2/3/2011 13:06|     0.42|     13047|United Kingdom|2011-02-03|\n",
      "|   543113|    22766| PHOTO FRAME CORNICE|       8|2/3/2011 13:06|     2.95|     13047|United Kingdom|2011-02-03|\n",
      "+---------+---------+--------------------+--------+--------------+---------+----------+--------------+----------+\n",
      "only showing top 20 rows\n",
      "\n"
     ]
    }
   ],
   "source": [
    "dfWithDate.where(col(\"CustomerID\") == 13047).show()"
   ]
  },
  {
   "cell_type": "code",
   "execution_count": 87,
   "metadata": {},
   "outputs": [
    {
     "name": "stdout",
     "output_type": "stream",
     "text": [
      "+---------+---------+--------------------+--------+--------------+---------+----------+--------------+----------+\n",
      "|InvoiceNo|StockCode|         Description|Quantity|   InvoiceDate|UnitPrice|CustomerID|       Country|      date|\n",
      "+---------+---------+--------------------+--------+--------------+---------+----------+--------------+----------+\n",
      "|   536365|    21730|GLASS STAR FROSTE...|       6|12/1/2010 8:26|     4.25|     17850|United Kingdom|2010-12-01|\n",
      "|   536365|    22752|SET 7 BABUSHKA NE...|       2|12/1/2010 8:26|     7.65|     17850|United Kingdom|2010-12-01|\n",
      "|   536365|   84029E|RED WOOLLY HOTTIE...|       6|12/1/2010 8:26|     3.39|     17850|United Kingdom|2010-12-01|\n",
      "|   536365|   84406B|CREAM CUPID HEART...|       8|12/1/2010 8:26|     2.75|     17850|United Kingdom|2010-12-01|\n",
      "|   536365|    71053| WHITE METAL LANTERN|       6|12/1/2010 8:26|     3.39|     17850|United Kingdom|2010-12-01|\n",
      "|   536365|   85123A|WHITE HANGING HEA...|       6|12/1/2010 8:26|     2.55|     17850|United Kingdom|2010-12-01|\n",
      "|   536365|   84029G|KNITTED UNION FLA...|       6|12/1/2010 8:26|     3.39|     17850|United Kingdom|2010-12-01|\n",
      "|   536366|    22633|HAND WARMER UNION...|       6|12/1/2010 8:28|     1.85|     17850|United Kingdom|2010-12-01|\n",
      "|   536366|    22632|HAND WARMER RED P...|       6|12/1/2010 8:28|     1.85|     17850|United Kingdom|2010-12-01|\n",
      "|   536367|    22622|BOX OF VINTAGE AL...|       2|12/1/2010 8:34|     9.95|     13047|United Kingdom|2010-12-01|\n",
      "|   536367|    84879|ASSORTED COLOUR B...|      32|12/1/2010 8:34|     1.69|     13047|United Kingdom|2010-12-01|\n",
      "|   536367|    84969|BOX OF 6 ASSORTED...|       6|12/1/2010 8:34|     4.25|     13047|United Kingdom|2010-12-01|\n",
      "|   536367|    21754|HOME BUILDING BLO...|       3|12/1/2010 8:34|     5.95|     13047|United Kingdom|2010-12-01|\n",
      "|   536367|    22623|BOX OF VINTAGE JI...|       3|12/1/2010 8:34|     4.95|     13047|United Kingdom|2010-12-01|\n",
      "|   536367|    48187| DOORMAT NEW ENGLAND|       4|12/1/2010 8:34|     7.95|     13047|United Kingdom|2010-12-01|\n",
      "|   536367|    22310|IVORY KNITTED MUG...|       6|12/1/2010 8:34|     1.65|     13047|United Kingdom|2010-12-01|\n",
      "|   536367|    22745|POPPY'S PLAYHOUSE...|       6|12/1/2010 8:34|      2.1|     13047|United Kingdom|2010-12-01|\n",
      "|   536367|    22749|FELTCRAFT PRINCES...|       8|12/1/2010 8:34|     3.75|     13047|United Kingdom|2010-12-01|\n",
      "|   536367|    21777|RECIPE BOX WITH M...|       4|12/1/2010 8:34|     7.95|     13047|United Kingdom|2010-12-01|\n",
      "|   536367|    22748|POPPY'S PLAYHOUSE...|       6|12/1/2010 8:34|      2.1|     13047|United Kingdom|2010-12-01|\n",
      "+---------+---------+--------------------+--------+--------------+---------+----------+--------------+----------+\n",
      "only showing top 20 rows\n",
      "\n"
     ]
    }
   ],
   "source": [
    "dfWithDate.distinct().orderBy(col(\"InvoiceNo\")).show()"
   ]
  },
  {
   "cell_type": "code",
   "execution_count": 88,
   "metadata": {},
   "outputs": [
    {
     "data": {
      "text/plain": [
       "536641"
      ]
     },
     "execution_count": 88,
     "metadata": {},
     "output_type": "execute_result"
    }
   ],
   "source": [
    "dfWithDate.distinct().orderBy(col(\"InvoiceNo\")).count()"
   ]
  },
  {
   "cell_type": "code",
   "execution_count": 100,
   "metadata": {},
   "outputs": [
    {
     "name": "stdout",
     "output_type": "stream",
     "text": [
      "+----------+------+\n",
      "|CustomerID| count|\n",
      "+----------+------+\n",
      "|      null|135080|\n",
      "|     12346|     2|\n",
      "|     12347|   182|\n",
      "|     12348|    31|\n",
      "|     12349|    73|\n",
      "|     12350|    17|\n",
      "|     12352|    95|\n",
      "|     12353|     4|\n",
      "|     12354|    58|\n",
      "|     12355|    13|\n",
      "|     12356|    59|\n",
      "|     12357|   131|\n",
      "|     12358|    19|\n",
      "|     12359|   254|\n",
      "|     12360|   129|\n",
      "|     12361|    10|\n",
      "|     12362|   274|\n",
      "|     12363|    23|\n",
      "|     12364|    85|\n",
      "|     12365|    23|\n",
      "+----------+------+\n",
      "only showing top 20 rows\n",
      "\n"
     ]
    }
   ],
   "source": [
    "dfWithDate.groupBy(\"CustomerID\").count().orderBy(asc(\"CustomerID\")).show()"
   ]
  },
  {
   "cell_type": "code",
   "execution_count": 104,
   "metadata": {},
   "outputs": [
    {
     "data": {
      "text/plain": [
       "25900"
      ]
     },
     "execution_count": 104,
     "metadata": {},
     "output_type": "execute_result"
    }
   ],
   "source": [
    "dfWithDate.select(\"InvoiceNo\").distinct().count()"
   ]
  },
  {
   "cell_type": "code",
   "execution_count": 109,
   "metadata": {},
   "outputs": [],
   "source": [
    "from pyspark.sql.functions import desc, max, col\n",
    "from pyspark.sql.window import Window\n",
    "windowSpec = Window\\\n",
    "  .partitionBy(\"CustomerId\", \"Date\")\\\n",
    "  .orderBy(\"Quantity\")\\\n",
    "  .rowsBetween(Window.unboundedPreceding, Window.currentRow)\n",
    "maxPurchaseQuatity = max(col(\"Quantity\")).over(windowSpec)"
   ]
  },
  {
   "cell_type": "code",
   "execution_count": 113,
   "metadata": {},
   "outputs": [],
   "source": [
    "from pyspark.sql.functions import dense_rank, rank\n",
    "purchaseDenseRank = dense_rank().over(windowSpec)\n",
    "purchasedRank = rank().over(windowSpec)"
   ]
  },
  {
   "cell_type": "code",
   "execution_count": 114,
   "metadata": {},
   "outputs": [
    {
     "data": {
      "text/plain": [
       "406829"
      ]
     },
     "execution_count": 114,
     "metadata": {},
     "output_type": "execute_result"
    }
   ],
   "source": [
    "dfWithDate.where(\"CustomerId IS NOT NULL\").count()"
   ]
  },
  {
   "cell_type": "code",
   "execution_count": 118,
   "metadata": {},
   "outputs": [
    {
     "name": "stdout",
     "output_type": "stream",
     "text": [
      "+----------+----------+--------+------------+-----------------+-------------------+\n",
      "|CustomerId|      date|Quantity|QuantityRank|QuantityDenseRank|maxPurchaseQuantity|\n",
      "+----------+----------+--------+------------+-----------------+-------------------+\n",
      "|     12477|2011-04-14|       2|           1|                1|                  2|\n",
      "|     12477|2011-04-14|       2|           1|                1|                  2|\n",
      "|     12477|2011-04-14|       2|           1|                1|                  2|\n",
      "|     12477|2011-04-14|       2|           1|                1|                  2|\n",
      "|     12477|2011-04-14|       2|           1|                1|                  2|\n",
      "|     12477|2011-04-14|       2|           1|                1|                  2|\n",
      "|     12477|2011-04-14|       2|           1|                1|                  2|\n",
      "|     12477|2011-04-14|       3|           8|                2|                  3|\n",
      "|     12477|2011-04-14|       3|           8|                2|                  3|\n",
      "|     12477|2011-04-14|       3|           8|                2|                  3|\n",
      "|     12477|2011-04-14|       4|          11|                3|                  4|\n",
      "|     12477|2011-04-14|       4|          11|                3|                  4|\n",
      "|     12477|2011-04-14|       5|          13|                4|                  5|\n",
      "|     12477|2011-04-14|       5|          13|                4|                  5|\n",
      "|     12477|2011-04-14|       5|          13|                4|                  5|\n",
      "|     12477|2011-04-14|       6|          16|                5|                  6|\n",
      "|     12477|2011-04-14|       6|          16|                5|                  6|\n",
      "|     12477|2011-04-14|       6|          16|                5|                  6|\n",
      "|     12477|2011-04-14|       6|          16|                5|                  6|\n",
      "|     12477|2011-04-14|       6|          16|                5|                  6|\n",
      "+----------+----------+--------+------------+-----------------+-------------------+\n",
      "only showing top 20 rows\n",
      "\n"
     ]
    }
   ],
   "source": [
    "dfWithDate.where(\"CustomerId IS NOT NULL\")\\ # .orderBy(\"CustomerId\")\n",
    "  .select(\n",
    "    col(\"CustomerId\"),\n",
    "    col(\"date\"),\n",
    "    col(\"Quantity\"),\n",
    "    purchasedRank.alias(\"QuantityRank\"),\n",
    "    purchaseDenseRank.alias(\"QuantityDenseRank\"),\n",
    "    maxPurchaseQuatity.alias(\"maxPurchaseQuantity\")).show()"
   ]
  },
  {
   "cell_type": "code",
   "execution_count": 125,
   "metadata": {},
   "outputs": [
    {
     "data": {
      "text/plain": [
       "406829"
      ]
     },
     "execution_count": 125,
     "metadata": {},
     "output_type": "execute_result"
    }
   ],
   "source": [
    "# GROUPING SETS operator is only available in SQL and to perform the same in DataFrames, 'rollup', 'cube' are used.\n",
    "dfWithDate.dropna().count() # default \"any\""
   ]
  },
  {
   "cell_type": "code",
   "execution_count": 126,
   "metadata": {},
   "outputs": [
    {
     "data": {
      "text/plain": [
       "541909"
      ]
     },
     "execution_count": 126,
     "metadata": {},
     "output_type": "execute_result"
    }
   ],
   "source": [
    "dfWithDate.drop().count()"
   ]
  },
  {
   "cell_type": "code",
   "execution_count": 121,
   "metadata": {},
   "outputs": [
    {
     "data": {
      "text/plain": [
       "541909"
      ]
     },
     "execution_count": 121,
     "metadata": {},
     "output_type": "execute_result"
    }
   ],
   "source": [
    "dfWithDate.count()"
   ]
  },
  {
   "cell_type": "code",
   "execution_count": 127,
   "metadata": {},
   "outputs": [],
   "source": [
    "dfNoNull = dfWithDate.dropna()"
   ]
  },
  {
   "cell_type": "code",
   "execution_count": 139,
   "metadata": {},
   "outputs": [],
   "source": [
    "dfNoNull.createOrReplaceTempView(\"dfNoNull\")"
   ]
  },
  {
   "cell_type": "code",
   "execution_count": 159,
   "metadata": {},
   "outputs": [
    {
     "name": "stdout",
     "output_type": "stream",
     "text": [
      "+----------+---------+-------------+\n",
      "|CustomerId|StockCode|sum(Quantity)|\n",
      "+----------+---------+-------------+\n",
      "|     12346|    23166|            0|\n",
      "|     12347|    16008|           24|\n",
      "|     12347|    17021|           36|\n",
      "|     12347|    20665|            6|\n",
      "|     12347|    20719|           40|\n",
      "|     12347|    20780|           12|\n",
      "|     12347|    20782|            6|\n",
      "|     12347|    20966|           10|\n",
      "|     12347|    21035|            6|\n",
      "|     12347|    21041|           12|\n",
      "|     12347|    21064|           30|\n",
      "|     12347|    21154|           10|\n",
      "|     12347|    21171|           12|\n",
      "|     12347|    21265|           24|\n",
      "|     12347|    21578|            6|\n",
      "|     12347|    21636|           12|\n",
      "|     12347|    21731|           72|\n",
      "|     12347|    21791|           48|\n",
      "|     12347|    21832|           12|\n",
      "|     12347|    21975|           48|\n",
      "+----------+---------+-------------+\n",
      "only showing top 20 rows\n",
      "\n"
     ]
    }
   ],
   "source": [
    "spark.sql(\n",
    "  \"SELECT CustomerId, StockCode, sum(Quantity) FROM dfNoNull\\\n",
    "   GROUP BY CustomerId, StockCode\\\n",
    "   ORDER BY CustomerId, StockCode\").show()"
   ]
  },
  {
   "cell_type": "code",
   "execution_count": 161,
   "metadata": {},
   "outputs": [
    {
     "name": "stdout",
     "output_type": "stream",
     "text": [
      "+----------+---------+-------------+\n",
      "|CustomerId|StockCode|sum(Quantity)|\n",
      "+----------+---------+-------------+\n",
      "|     12346|    23166|            0|\n",
      "|     12347|    16008|           24|\n",
      "|     12347|    17021|           36|\n",
      "|     12347|    20665|            6|\n",
      "|     12347|    20719|           40|\n",
      "|     12347|    20780|           12|\n",
      "|     12347|    20782|            6|\n",
      "|     12347|    20966|           10|\n",
      "|     12347|    21035|            6|\n",
      "|     12347|    21041|           12|\n",
      "|     12347|    21064|           30|\n",
      "|     12347|    21154|           10|\n",
      "|     12347|    21171|           12|\n",
      "|     12347|    21265|           24|\n",
      "|     12347|    21578|            6|\n",
      "|     12347|    21636|           12|\n",
      "|     12347|    21731|           72|\n",
      "|     12347|    21791|           48|\n",
      "|     12347|    21832|           12|\n",
      "|     12347|    21975|           48|\n",
      "+----------+---------+-------------+\n",
      "only showing top 20 rows\n",
      "\n"
     ]
    }
   ],
   "source": [
    "spark.sql(\n",
    "  \"SELECT CustomerId, StockCode, sum(Quantity) FROM dfNoNull\\\n",
    "   GROUP BY CustomerId, StockCode GROUPING SETS((CustomerId, StockCode))\\\n",
    "   ORDER BY CustomerId, StockCode\").show()"
   ]
  },
  {
   "cell_type": "code",
   "execution_count": 168,
   "metadata": {},
   "outputs": [
    {
     "data": {
      "text/plain": [
       "['InvoiceNo',\n",
       " 'StockCode',\n",
       " 'Description',\n",
       " 'Quantity',\n",
       " 'InvoiceDate',\n",
       " 'UnitPrice',\n",
       " 'CustomerID',\n",
       " 'Country',\n",
       " 'Date']"
      ]
     },
     "execution_count": 168,
     "metadata": {},
     "output_type": "execute_result"
    }
   ],
   "source": [
    "dfNoNull.withColumnRenamed(\"date\", \"Date\").columns"
   ]
  },
  {
   "cell_type": "code",
   "execution_count": 169,
   "metadata": {},
   "outputs": [],
   "source": [
    "df1 = dfNoNull.withColumnRenamed(\"date\", \"Date\")"
   ]
  },
  {
   "cell_type": "code",
   "execution_count": 170,
   "metadata": {},
   "outputs": [
    {
     "name": "stdout",
     "output_type": "stream",
     "text": [
      "+---------+---------+--------------------+--------+--------------+---------+----------+--------------+----------+\n",
      "|InvoiceNo|StockCode|         Description|Quantity|   InvoiceDate|UnitPrice|CustomerID|       Country|      Date|\n",
      "+---------+---------+--------------------+--------+--------------+---------+----------+--------------+----------+\n",
      "|   536365|   85123A|WHITE HANGING HEA...|       6|12/1/2010 8:26|     2.55|     17850|United Kingdom|2010-12-01|\n",
      "|   536365|    71053| WHITE METAL LANTERN|       6|12/1/2010 8:26|     3.39|     17850|United Kingdom|2010-12-01|\n",
      "|   536365|   84406B|CREAM CUPID HEART...|       8|12/1/2010 8:26|     2.75|     17850|United Kingdom|2010-12-01|\n",
      "|   536365|   84029G|KNITTED UNION FLA...|       6|12/1/2010 8:26|     3.39|     17850|United Kingdom|2010-12-01|\n",
      "|   536365|   84029E|RED WOOLLY HOTTIE...|       6|12/1/2010 8:26|     3.39|     17850|United Kingdom|2010-12-01|\n",
      "+---------+---------+--------------------+--------+--------------+---------+----------+--------------+----------+\n",
      "only showing top 5 rows\n",
      "\n"
     ]
    }
   ],
   "source": [
    "df1.show(5)"
   ]
  },
  {
   "cell_type": "code",
   "execution_count": 190,
   "metadata": {},
   "outputs": [],
   "source": [
    "# cube takes the rollup one level deeper. Rather than treating elements hierarchically, a cube does the same thing across all dimensions\n",
    "from pyspark.sql.functions import sum\n",
    "cubeDF = df1.cube(\"Date\", \"Country\").agg(sum(col(\"Quantity\"))).select(col(\"Date\"), col(\"Country\"), \"sum(Quantity)\").orderBy(\"Date\")"
   ]
  },
  {
   "cell_type": "code",
   "execution_count": 191,
   "metadata": {},
   "outputs": [
    {
     "name": "stdout",
     "output_type": "stream",
     "text": [
      "+----+--------------------+-------------+\n",
      "|Date|             Country|sum(Quantity)|\n",
      "+----+--------------------+-------------+\n",
      "|null|               Italy|         7999|\n",
      "|null|            Portugal|        16044|\n",
      "|null|               Japan|        25218|\n",
      "|null|             Finland|        10666|\n",
      "|null|           Australia|        83653|\n",
      "|null|             Germany|       117448|\n",
      "|null|                null|      4906888|\n",
      "|null|           Singapore|         5234|\n",
      "|null|United Arab Emirates|          982|\n",
      "|null|                 RSA|          352|\n",
      "|null|                 USA|         1034|\n",
      "|null|              Cyprus|         6317|\n",
      "|null|               Spain|        26824|\n",
      "|null|             Denmark|         8188|\n",
      "|null|         Unspecified|         1789|\n",
      "|null|  European Community|          497|\n",
      "|null|      Czech Republic|          592|\n",
      "|null|              Norway|        19247|\n",
      "|null|             Lebanon|          386|\n",
      "|null|     Channel Islands|         9479|\n",
      "+----+--------------------+-------------+\n",
      "only showing top 20 rows\n",
      "\n"
     ]
    }
   ],
   "source": [
    "cubeDF.show()"
   ]
  },
  {
   "cell_type": "code",
   "execution_count": 193,
   "metadata": {},
   "outputs": [
    {
     "name": "stdout",
     "output_type": "stream",
     "text": [
      "+----------+-------+-------------+\n",
      "|      Date|Country|sum(Quantity)|\n",
      "+----------+-------+-------------+\n",
      "|      null|   null|      4906888|\n",
      "|2010-12-01|   null|        24032|\n",
      "|2010-12-02|   null|        20855|\n",
      "|2010-12-03|   null|        11548|\n",
      "|2010-12-05|   null|        16394|\n",
      "+----------+-------+-------------+\n",
      "only showing top 5 rows\n",
      "\n",
      "+----+------------------+-------------+\n",
      "|Date|           Country|sum(Quantity)|\n",
      "+----+------------------+-------------+\n",
      "|null|European Community|          497|\n",
      "|null|            Norway|        19247|\n",
      "|null|           Denmark|         8188|\n",
      "|null|    Czech Republic|          592|\n",
      "|null|               USA|         1034|\n",
      "+----+------------------+-------------+\n",
      "only showing top 5 rows\n",
      "\n"
     ]
    }
   ],
   "source": [
    "cubeDF.where(\"Country IS NULL\").show(5)\n",
    "cubeDF.where(\"Date IS NULL\").show(5)"
   ]
  },
  {
   "cell_type": "code",
   "execution_count": 194,
   "metadata": {},
   "outputs": [
    {
     "name": "stdout",
     "output_type": "stream",
     "text": [
      "+----+-------+-------------+\n",
      "|Date|Country|sum(Quantity)|\n",
      "+----+-------+-------------+\n",
      "|null|   null|      4906888|\n",
      "+----+-------+-------------+\n",
      "\n"
     ]
    }
   ],
   "source": [
    "cubeDF.where(\"(Country IS NULL) AND (Date IS NULL)\").show()"
   ]
  },
  {
   "cell_type": "code",
   "execution_count": 186,
   "metadata": {},
   "outputs": [],
   "source": [
    "rolledUpDF = df1.rollup(\"Date\", \"Country\").agg(sum(col(\"Quantity\")))\\\n",
    "   .select(\"Date\", \"Country\", \"`sum(Quantity)`\").orderBy(\"Date\")"
   ]
  },
  {
   "cell_type": "code",
   "execution_count": 187,
   "metadata": {},
   "outputs": [
    {
     "name": "stdout",
     "output_type": "stream",
     "text": [
      "+----------+--------------+-------------+\n",
      "|      Date|       Country|sum(Quantity)|\n",
      "+----------+--------------+-------------+\n",
      "|      null|          null|      4906888|\n",
      "|2010-12-01|   Netherlands|           97|\n",
      "|2010-12-01|        France|          449|\n",
      "|2010-12-01|       Germany|          117|\n",
      "|2010-12-01|     Australia|          107|\n",
      "|2010-12-01|United Kingdom|        21167|\n",
      "|2010-12-01|          EIRE|          243|\n",
      "|2010-12-01|          null|        24032|\n",
      "|2010-12-01|        Norway|         1852|\n",
      "|2010-12-02|          EIRE|            4|\n",
      "|2010-12-02|          null|        20855|\n",
      "|2010-12-02|       Germany|          146|\n",
      "|2010-12-02|United Kingdom|        20705|\n",
      "|2010-12-03|       Belgium|          528|\n",
      "|2010-12-03|   Switzerland|          110|\n",
      "|2010-12-03|       Germany|          170|\n",
      "|2010-12-03|         Italy|          164|\n",
      "|2010-12-03|         Spain|          400|\n",
      "|2010-12-03|        France|          239|\n",
      "|2010-12-03|      Portugal|           65|\n",
      "+----------+--------------+-------------+\n",
      "only showing top 20 rows\n",
      "\n"
     ]
    }
   ],
   "source": [
    "rolledUpDF.show()"
   ]
  },
  {
   "cell_type": "code",
   "execution_count": 189,
   "metadata": {},
   "outputs": [
    {
     "name": "stdout",
     "output_type": "stream",
     "text": [
      "+----------+-------+-------------+\n",
      "|      Date|Country|sum(Quantity)|\n",
      "+----------+-------+-------------+\n",
      "|      null|   null|      4906888|\n",
      "|2010-12-01|   null|        24032|\n",
      "|2010-12-02|   null|        20855|\n",
      "|2010-12-03|   null|        11548|\n",
      "|2010-12-05|   null|        16394|\n",
      "|2010-12-06|   null|        16095|\n",
      "|2010-12-07|   null|        19351|\n",
      "|2010-12-08|   null|        21275|\n",
      "|2010-12-09|   null|        16904|\n",
      "|2010-12-10|   null|        15388|\n",
      "|2010-12-12|   null|        10561|\n",
      "|2010-12-13|   null|        15234|\n",
      "|2010-12-14|   null|        17108|\n",
      "|2010-12-15|   null|        18169|\n",
      "|2010-12-16|   null|        29482|\n",
      "|2010-12-17|   null|        10517|\n",
      "|2010-12-19|   null|         3735|\n",
      "|2010-12-20|   null|        12617|\n",
      "|2010-12-21|   null|        10888|\n",
      "|2010-12-22|   null|         3053|\n",
      "+----------+-------+-------------+\n",
      "only showing top 20 rows\n",
      "\n",
      "+----+-------+-------------+\n",
      "|Date|Country|sum(Quantity)|\n",
      "+----+-------+-------------+\n",
      "|null|   null|      4906888|\n",
      "+----+-------+-------------+\n",
      "\n"
     ]
    }
   ],
   "source": [
    "rolledUpDF.where(\"Country IS NULL\").show()\n",
    "rolledUpDF.where(\"Date IS NULL\").show()"
   ]
  },
  {
   "cell_type": "code",
   "execution_count": 210,
   "metadata": {},
   "outputs": [
    {
     "name": "stdout",
     "output_type": "stream",
     "text": [
      "+----+--------------------+-------------+-------------+\n",
      "|Date|             Country|grouping_id()|sum(Quantity)|\n",
      "+----+--------------------+-------------+-------------+\n",
      "|null|                null|            3|      4906888|\n",
      "|null|               Italy|            2|         7999|\n",
      "|null|             Finland|            2|        10666|\n",
      "|null|               Japan|            2|        25218|\n",
      "|null|     Channel Islands|            2|         9479|\n",
      "|null|              Cyprus|            2|         6317|\n",
      "|null|                 RSA|            2|          352|\n",
      "|null|            Portugal|            2|        16044|\n",
      "|null|             Denmark|            2|         8188|\n",
      "|null|                 USA|            2|         1034|\n",
      "|null|United Arab Emirates|            2|          982|\n",
      "|null|             Lebanon|            2|          386|\n",
      "|null|         Unspecified|            2|         1789|\n",
      "|null|             Germany|            2|       117448|\n",
      "|null|           Australia|            2|        83653|\n",
      "|null|      Czech Republic|            2|          592|\n",
      "|null|  European Community|            2|          497|\n",
      "|null|              Norway|            2|        19247|\n",
      "|null|               Spain|            2|        26824|\n",
      "|null|           Singapore|            2|         5234|\n",
      "+----+--------------------+-------------+-------------+\n",
      "only showing top 20 rows\n",
      "\n"
     ]
    }
   ],
   "source": [
    "from pyspark.sql.functions import grouping_id, expr, desc\n",
    "df1.cube(\"Date\", \"Country\").agg(grouping_id(), sum(col(\"Quantity\")))\\\n",
    "   .orderBy(desc(\"grouping_id()\")).show()"
   ]
  },
  {
   "cell_type": "code",
   "execution_count": 211,
   "metadata": {},
   "outputs": [],
   "source": [
    "#pivots make it possible for you to convert a row into a column\n",
    "pivoted = dfWithDate.groupby(\"date\").pivot(\"Country\").sum()"
   ]
  },
  {
   "cell_type": "code",
   "execution_count": 212,
   "metadata": {
    "scrolled": true
   },
   "outputs": [
    {
     "name": "stdout",
     "output_type": "stream",
     "text": [
      "+----------+---------------------------------------+------------------------+-----------------------------------------+-------------------------------------+----------------------+---------------------------------------+-------------------------------------+----------------------+---------------------------------------+-------------------------------------+----------------------+---------------------------------------+------------------------------------+---------------------+--------------------------------------+------------------------------------+---------------------+--------------------------------------+---------------------------------------------+------------------------------+-----------------------------------------------+------------------------------------+---------------------+--------------------------------------+--------------------------------------------+-----------------------------+----------------------------------------------+-------------------------------------+----------------------+---------------------------------------+----------------------------------+-------------------+------------------------------------+------------------------------------------------+---------------------------------+--------------------------------------------------+-------------------------------------+----------------------+---------------------------------------+------------------------------------+---------------------+--------------------------------------+-------------------------------------+----------------------+---------------------------------------+------------------------------------+---------------------+--------------------------------------+---------------------------------------+------------------------+-----------------------------------------+-------------------------------------+----------------------+---------------------------------------+------------------------------------+---------------------+--------------------------------------+-----------------------------------+--------------------+-------------------------------------+-----------------------------------+--------------------+-------------------------------------+-------------------------------------+----------------------+---------------------------------------+---------------------------------------+------------------------+-----------------------------------------+-----------------------------------+--------------------+-------------------------------------+-----------------------------------------+--------------------------+-------------------------------------------+------------------------------------+---------------------+--------------------------------------+------------------------------------+---------------------+--------------------------------------+--------------------------------------+-----------------------+----------------------------------------+---------------------------------+------------------+-----------------------------------+------------------------------------------+---------------------------+--------------------------------------------+---------------------------------------+------------------------+-----------------------------------------+-----------------------------------+--------------------+-------------------------------------+------------------------------------+---------------------+--------------------------------------+-----------------------------------------+--------------------------+-------------------------------------------+---------------------------------+------------------+-----------------------------------+--------------------------------------------------+-----------------------------------+----------------------------------------------------+--------------------------------------------+-----------------------------+----------------------------------------------+-----------------------------------------+--------------------------+-------------------------------------------+\n",
      "|      date|Australia_sum(CAST(Quantity AS BIGINT))|Australia_sum(UnitPrice)|Australia_sum(CAST(CustomerID AS BIGINT))|Austria_sum(CAST(Quantity AS BIGINT))|Austria_sum(UnitPrice)|Austria_sum(CAST(CustomerID AS BIGINT))|Bahrain_sum(CAST(Quantity AS BIGINT))|Bahrain_sum(UnitPrice)|Bahrain_sum(CAST(CustomerID AS BIGINT))|Belgium_sum(CAST(Quantity AS BIGINT))|Belgium_sum(UnitPrice)|Belgium_sum(CAST(CustomerID AS BIGINT))|Brazil_sum(CAST(Quantity AS BIGINT))|Brazil_sum(UnitPrice)|Brazil_sum(CAST(CustomerID AS BIGINT))|Canada_sum(CAST(Quantity AS BIGINT))|Canada_sum(UnitPrice)|Canada_sum(CAST(CustomerID AS BIGINT))|Channel Islands_sum(CAST(Quantity AS BIGINT))|Channel Islands_sum(UnitPrice)|Channel Islands_sum(CAST(CustomerID AS BIGINT))|Cyprus_sum(CAST(Quantity AS BIGINT))|Cyprus_sum(UnitPrice)|Cyprus_sum(CAST(CustomerID AS BIGINT))|Czech Republic_sum(CAST(Quantity AS BIGINT))|Czech Republic_sum(UnitPrice)|Czech Republic_sum(CAST(CustomerID AS BIGINT))|Denmark_sum(CAST(Quantity AS BIGINT))|Denmark_sum(UnitPrice)|Denmark_sum(CAST(CustomerID AS BIGINT))|EIRE_sum(CAST(Quantity AS BIGINT))|EIRE_sum(UnitPrice)|EIRE_sum(CAST(CustomerID AS BIGINT))|European Community_sum(CAST(Quantity AS BIGINT))|European Community_sum(UnitPrice)|European Community_sum(CAST(CustomerID AS BIGINT))|Finland_sum(CAST(Quantity AS BIGINT))|Finland_sum(UnitPrice)|Finland_sum(CAST(CustomerID AS BIGINT))|France_sum(CAST(Quantity AS BIGINT))|France_sum(UnitPrice)|France_sum(CAST(CustomerID AS BIGINT))|Germany_sum(CAST(Quantity AS BIGINT))|Germany_sum(UnitPrice)|Germany_sum(CAST(CustomerID AS BIGINT))|Greece_sum(CAST(Quantity AS BIGINT))|Greece_sum(UnitPrice)|Greece_sum(CAST(CustomerID AS BIGINT))|Hong Kong_sum(CAST(Quantity AS BIGINT))|Hong Kong_sum(UnitPrice)|Hong Kong_sum(CAST(CustomerID AS BIGINT))|Iceland_sum(CAST(Quantity AS BIGINT))|Iceland_sum(UnitPrice)|Iceland_sum(CAST(CustomerID AS BIGINT))|Israel_sum(CAST(Quantity AS BIGINT))|Israel_sum(UnitPrice)|Israel_sum(CAST(CustomerID AS BIGINT))|Italy_sum(CAST(Quantity AS BIGINT))|Italy_sum(UnitPrice)|Italy_sum(CAST(CustomerID AS BIGINT))|Japan_sum(CAST(Quantity AS BIGINT))|Japan_sum(UnitPrice)|Japan_sum(CAST(CustomerID AS BIGINT))|Lebanon_sum(CAST(Quantity AS BIGINT))|Lebanon_sum(UnitPrice)|Lebanon_sum(CAST(CustomerID AS BIGINT))|Lithuania_sum(CAST(Quantity AS BIGINT))|Lithuania_sum(UnitPrice)|Lithuania_sum(CAST(CustomerID AS BIGINT))|Malta_sum(CAST(Quantity AS BIGINT))|Malta_sum(UnitPrice)|Malta_sum(CAST(CustomerID AS BIGINT))|Netherlands_sum(CAST(Quantity AS BIGINT))|Netherlands_sum(UnitPrice)|Netherlands_sum(CAST(CustomerID AS BIGINT))|Norway_sum(CAST(Quantity AS BIGINT))|Norway_sum(UnitPrice)|Norway_sum(CAST(CustomerID AS BIGINT))|Poland_sum(CAST(Quantity AS BIGINT))|Poland_sum(UnitPrice)|Poland_sum(CAST(CustomerID AS BIGINT))|Portugal_sum(CAST(Quantity AS BIGINT))|Portugal_sum(UnitPrice)|Portugal_sum(CAST(CustomerID AS BIGINT))|RSA_sum(CAST(Quantity AS BIGINT))|RSA_sum(UnitPrice)|RSA_sum(CAST(CustomerID AS BIGINT))|Saudi Arabia_sum(CAST(Quantity AS BIGINT))|Saudi Arabia_sum(UnitPrice)|Saudi Arabia_sum(CAST(CustomerID AS BIGINT))|Singapore_sum(CAST(Quantity AS BIGINT))|Singapore_sum(UnitPrice)|Singapore_sum(CAST(CustomerID AS BIGINT))|Spain_sum(CAST(Quantity AS BIGINT))|Spain_sum(UnitPrice)|Spain_sum(CAST(CustomerID AS BIGINT))|Sweden_sum(CAST(Quantity AS BIGINT))|Sweden_sum(UnitPrice)|Sweden_sum(CAST(CustomerID AS BIGINT))|Switzerland_sum(CAST(Quantity AS BIGINT))|Switzerland_sum(UnitPrice)|Switzerland_sum(CAST(CustomerID AS BIGINT))|USA_sum(CAST(Quantity AS BIGINT))|USA_sum(UnitPrice)|USA_sum(CAST(CustomerID AS BIGINT))|United Arab Emirates_sum(CAST(Quantity AS BIGINT))|United Arab Emirates_sum(UnitPrice)|United Arab Emirates_sum(CAST(CustomerID AS BIGINT))|United Kingdom_sum(CAST(Quantity AS BIGINT))|United Kingdom_sum(UnitPrice)|United Kingdom_sum(CAST(CustomerID AS BIGINT))|Unspecified_sum(CAST(Quantity AS BIGINT))|Unspecified_sum(UnitPrice)|Unspecified_sum(CAST(CustomerID AS BIGINT))|\n",
      "+----------+---------------------------------------+------------------------+-----------------------------------------+-------------------------------------+----------------------+---------------------------------------+-------------------------------------+----------------------+---------------------------------------+-------------------------------------+----------------------+---------------------------------------+------------------------------------+---------------------+--------------------------------------+------------------------------------+---------------------+--------------------------------------+---------------------------------------------+------------------------------+-----------------------------------------------+------------------------------------+---------------------+--------------------------------------+--------------------------------------------+-----------------------------+----------------------------------------------+-------------------------------------+----------------------+---------------------------------------+----------------------------------+-------------------+------------------------------------+------------------------------------------------+---------------------------------+--------------------------------------------------+-------------------------------------+----------------------+---------------------------------------+------------------------------------+---------------------+--------------------------------------+-------------------------------------+----------------------+---------------------------------------+------------------------------------+---------------------+--------------------------------------+---------------------------------------+------------------------+-----------------------------------------+-------------------------------------+----------------------+---------------------------------------+------------------------------------+---------------------+--------------------------------------+-----------------------------------+--------------------+-------------------------------------+-----------------------------------+--------------------+-------------------------------------+-------------------------------------+----------------------+---------------------------------------+---------------------------------------+------------------------+-----------------------------------------+-----------------------------------+--------------------+-------------------------------------+-----------------------------------------+--------------------------+-------------------------------------------+------------------------------------+---------------------+--------------------------------------+------------------------------------+---------------------+--------------------------------------+--------------------------------------+-----------------------+----------------------------------------+---------------------------------+------------------+-----------------------------------+------------------------------------------+---------------------------+--------------------------------------------+---------------------------------------+------------------------+-----------------------------------------+-----------------------------------+--------------------+-------------------------------------+------------------------------------+---------------------+--------------------------------------+-----------------------------------------+--------------------------+-------------------------------------------+---------------------------------+------------------+-----------------------------------+--------------------------------------------------+-----------------------------------+----------------------------------------------------+--------------------------------------------+-----------------------------+----------------------------------------------+-----------------------------------------+--------------------------+-------------------------------------------+\n",
      "|2011-10-07|                                   null|                    null|                                     null|                                 null|                  null|                                   null|                                 null|                  null|                                   null|                                 null|                  null|                                   null|                                null|                 null|                                  null|                                null|                 null|                                  null|                                         null|                          null|                                           null|                                 345|   136.51000000000002|                                360180|                                         325|                        49.38|                                        127810|                                  637|                 27.69|                                  74364|                               448| 225.09999999999997|                              760461|                                            null|                             null|                                              null|                                 null|                  null|                                   null|                                 527|    88.43999999999998|                                483504|                                 2053|    327.79999999999995|                                1150698|                                null|                 null|                                  null|                                   null|                    null|                                     null|                                 null|                  null|                                   null|                                null|                 null|                                  null|                               null|                null|                                 null|                               null|                null|                                 null|                                 null|                  null|                                   null|                                   null|                    null|                                     null|                               null|                null|                                 null|                                      212|                     25.35|                                     140558|                                null|                 null|                                  null|                                null|                 null|                                  null|                                  null|                   null|                                    null|                             null|              null|                               null|                                      null|                       null|                                        null|                                   null|                    null|                                     null|                                227|  123.08000000000001|                               275880|                                null|                 null|                                  null|                                     null|                      null|                                       null|                             null|              null|                               null|                                              null|                               null|                                                null|                                       25657|           12425.409999999976|                                      27566889|                                     null|                      null|                                       null|\n",
      "|2011-05-06|                                   null|                    null|                                     null|                                   42|                 58.95|                                  74484|                                 null|                  null|                                   null|                                  182|                 63.32|                                 260274|                                null|                 null|                                  null|                                null|                 null|                                  null|                                         null|                          null|                                           null|                                null|                 null|                                  null|                                        null|                         null|                                          null|                                 null|                  null|                                   null|                              1694|              75.37|                              283120|                                            null|                             null|                                              null|                                 null|                  null|                                   null|                                null|                 null|                                  null|                                  222|    12.639999999999999|                                 126857|                                null|                 null|                                  null|                                   null|                    null|                                     null|                                 null|                  null|                                   null|                                null|                 null|                                  null|                               null|                null|                                 null|                               null|                null|                                 null|                                 null|                  null|                                   null|                                   null|                    null|                                     null|                               null|                null|                                 null|                                     null|                      null|                                       null|                                null|                 null|                                  null|                                null|                 null|                                  null|                                  null|                   null|                                    null|                             null|              null|                               null|                                      null|                       null|                                        null|                                   null|                    null|                                     null|                                 88|               113.1|                               187530|                                null|                 null|                                  null|                                     null|                      null|                                       null|                             null|              null|                               null|                                              null|                               null|                                                null|                                       17404|            6952.629999999985|                                      18722445|                                     null|                      null|                                       null|\n",
      "|2011-01-30|                                   null|                    null|                                     null|                                 null|                  null|                                   null|                                 null|                  null|                                   null|                                 null|                  null|                                   null|                                null|                 null|                                  null|                                null|                 null|                                  null|                                         null|                          null|                                           null|                                null|                 null|                                  null|                                        null|                         null|                                          null|                                 null|                  null|                                   null|                              null|               null|                                null|                                            null|                             null|                                              null|                                 null|                  null|                                   null|                                null|                 null|                                  null|                                 null|                  null|                                   null|                                null|                 null|                                  null|                                   null|                    null|                                     null|                                 null|                  null|                                   null|                                null|                 null|                                  null|                               null|                null|                                 null|                               null|                null|                                 null|                                 null|                  null|                                   null|                                   null|                    null|                                     null|                               null|                null|                                 null|                                     null|                      null|                                       null|                                null|                 null|                                  null|                                null|                 null|                                  null|                                  null|                   null|                                    null|                             null|              null|                               null|                                      null|                       null|                                        null|                                   null|                    null|                                     null|                               null|                null|                                 null|                                null|                 null|                                  null|                                     null|                      null|                                       null|                             null|              null|                               null|                                              null|                               null|                                                null|                                        3367|            2321.720000000002|                                      11334037|                                     null|                      null|                                       null|\n",
      "|2011-11-18|                                   null|                    null|                                     null|                                 null|                  null|                                   null|                                 null|                  null|                                   null|                                  315|     87.74000000000001|                                 210460|                                null|                 null|                                  null|                                null|                 null|                                  null|                                         null|                          null|                                           null|                                 300|   245.99000000000004|                               1239100|                                         -40|           6.9399999999999995|                                         38343|                                 null|                  null|                                   null|                               263| 230.84999999999982|                              819350|                                            null|                             null|                                              null|                                 null|                  null|                                   null|                                 550|               167.77|                                593838|                                  491|    128.18000000000004|                                 274863|                                null|                 null|                                  null|                                   null|                    null|                                     null|                                 null|                  null|                                   null|                                null|                 null|                                  null|                                544|  232.31999999999996|                               692230|                               null|                null|                                 null|                                 null|                  null|                                   null|                                   null|                    null|                                     null|                               null|                null|                                 null|                                       34|                     19.25|                                      29292|                                 242|   186.04000000000002|                                435540|                                  -8|    8.190000000000001|                                 38337|                                  null|                   null|                                    null|                             null|              null|                               null|                                      null|                       null|                                        null|                                   null|                    null|                                     null|                               null|                null|                                 null|                                  -3|                 2.89|                                 12697|                                      669|         78.28999999999998|                                     547844|                             null|              null|                               null|                                              null|                               null|                                                null|                                       20178|           10676.199999999879|                                      29578557|                                     null|                      null|                                       null|\n",
      "|2011-07-18|                                   null|                    null|                                     null|                                 null|                  null|                                   null|                                 null|                  null|                                   null|                                 null|                  null|                                   null|                                null|                 null|                                  null|                                null|                 null|                                  null|                                         null|                          null|                                           null|                                null|                 null|                                  null|                                        null|                         null|                                          null|                                 null|                  null|                                   null|                              1377| 146.97999999999988|                              999037|                                            null|                             null|                                              null|                                 null|                  null|                                   null|                                 921|   132.25000000000003|                                533282|                                 null|                  null|                                   null|                                null|                 null|                                  null|                                   null|                    null|                                     null|                                 null|                  null|                                   null|                                null|                 null|                                  null|                               null|                null|                                 null|                               null|                null|                                 null|                                 null|                  null|                                   null|                                   null|                    null|                                     null|                               null|                null|                                 null|                                     null|                      null|                                       null|                                null|                 null|                                  null|                                null|                 null|                                  null|                                  null|                   null|                                    null|                             null|              null|                               null|                                      null|                       null|                                        null|                                   2160|      230.45999999999998|                                   955800|                               null|                null|                                 null|                                null|                 null|                                  null|                                     null|                      null|                                       null|                             null|              null|                               null|                                              null|                               null|                                                null|                                        9908|            26946.80000000045|                                      16266983|                                     null|                      null|                                       null|\n",
      "+----------+---------------------------------------+------------------------+-----------------------------------------+-------------------------------------+----------------------+---------------------------------------+-------------------------------------+----------------------+---------------------------------------+-------------------------------------+----------------------+---------------------------------------+------------------------------------+---------------------+--------------------------------------+------------------------------------+---------------------+--------------------------------------+---------------------------------------------+------------------------------+-----------------------------------------------+------------------------------------+---------------------+--------------------------------------+--------------------------------------------+-----------------------------+----------------------------------------------+-------------------------------------+----------------------+---------------------------------------+----------------------------------+-------------------+------------------------------------+------------------------------------------------+---------------------------------+--------------------------------------------------+-------------------------------------+----------------------+---------------------------------------+------------------------------------+---------------------+--------------------------------------+-------------------------------------+----------------------+---------------------------------------+------------------------------------+---------------------+--------------------------------------+---------------------------------------+------------------------+-----------------------------------------+-------------------------------------+----------------------+---------------------------------------+------------------------------------+---------------------+--------------------------------------+-----------------------------------+--------------------+-------------------------------------+-----------------------------------+--------------------+-------------------------------------+-------------------------------------+----------------------+---------------------------------------+---------------------------------------+------------------------+-----------------------------------------+-----------------------------------+--------------------+-------------------------------------+-----------------------------------------+--------------------------+-------------------------------------------+------------------------------------+---------------------+--------------------------------------+------------------------------------+---------------------+--------------------------------------+--------------------------------------+-----------------------+----------------------------------------+---------------------------------+------------------+-----------------------------------+------------------------------------------+---------------------------+--------------------------------------------+---------------------------------------+------------------------+-----------------------------------------+-----------------------------------+--------------------+-------------------------------------+------------------------------------+---------------------+--------------------------------------+-----------------------------------------+--------------------------+-------------------------------------------+---------------------------------+------------------+-----------------------------------+--------------------------------------------------+-----------------------------------+----------------------------------------------------+--------------------------------------------+-----------------------------+----------------------------------------------+-----------------------------------------+--------------------------+-------------------------------------------+\n",
      "only showing top 5 rows\n",
      "\n"
     ]
    }
   ],
   "source": [
    "pivoted.show(5)"
   ]
  },
  {
   "cell_type": "code",
   "execution_count": 221,
   "metadata": {},
   "outputs": [
    {
     "name": "stdout",
     "output_type": "stream",
     "text": [
      "+----------+\n",
      "|      date|\n",
      "+----------+\n",
      "|2011-12-06|\n",
      "|2011-12-09|\n",
      "|2011-12-08|\n",
      "|2011-12-07|\n",
      "+----------+\n",
      "\n"
     ]
    }
   ],
   "source": [
    "pivoted.where(\"date > '2011-12-05'\").select(\"date\").show()"
   ]
  },
  {
   "cell_type": "code",
   "execution_count": 217,
   "metadata": {},
   "outputs": [
    {
     "data": {
      "text/plain": [
       "['date',\n",
       " 'Australia_sum(CAST(Quantity AS BIGINT))',\n",
       " 'Australia_sum(UnitPrice)',\n",
       " 'Australia_sum(CAST(CustomerID AS BIGINT))',\n",
       " 'Austria_sum(CAST(Quantity AS BIGINT))',\n",
       " 'Austria_sum(UnitPrice)',\n",
       " 'Austria_sum(CAST(CustomerID AS BIGINT))',\n",
       " 'Bahrain_sum(CAST(Quantity AS BIGINT))',\n",
       " 'Bahrain_sum(UnitPrice)',\n",
       " 'Bahrain_sum(CAST(CustomerID AS BIGINT))',\n",
       " 'Belgium_sum(CAST(Quantity AS BIGINT))',\n",
       " 'Belgium_sum(UnitPrice)',\n",
       " 'Belgium_sum(CAST(CustomerID AS BIGINT))',\n",
       " 'Brazil_sum(CAST(Quantity AS BIGINT))',\n",
       " 'Brazil_sum(UnitPrice)',\n",
       " 'Brazil_sum(CAST(CustomerID AS BIGINT))',\n",
       " 'Canada_sum(CAST(Quantity AS BIGINT))',\n",
       " 'Canada_sum(UnitPrice)',\n",
       " 'Canada_sum(CAST(CustomerID AS BIGINT))',\n",
       " 'Channel Islands_sum(CAST(Quantity AS BIGINT))',\n",
       " 'Channel Islands_sum(UnitPrice)',\n",
       " 'Channel Islands_sum(CAST(CustomerID AS BIGINT))',\n",
       " 'Cyprus_sum(CAST(Quantity AS BIGINT))',\n",
       " 'Cyprus_sum(UnitPrice)',\n",
       " 'Cyprus_sum(CAST(CustomerID AS BIGINT))',\n",
       " 'Czech Republic_sum(CAST(Quantity AS BIGINT))',\n",
       " 'Czech Republic_sum(UnitPrice)',\n",
       " 'Czech Republic_sum(CAST(CustomerID AS BIGINT))',\n",
       " 'Denmark_sum(CAST(Quantity AS BIGINT))',\n",
       " 'Denmark_sum(UnitPrice)',\n",
       " 'Denmark_sum(CAST(CustomerID AS BIGINT))',\n",
       " 'EIRE_sum(CAST(Quantity AS BIGINT))',\n",
       " 'EIRE_sum(UnitPrice)',\n",
       " 'EIRE_sum(CAST(CustomerID AS BIGINT))',\n",
       " 'European Community_sum(CAST(Quantity AS BIGINT))',\n",
       " 'European Community_sum(UnitPrice)',\n",
       " 'European Community_sum(CAST(CustomerID AS BIGINT))',\n",
       " 'Finland_sum(CAST(Quantity AS BIGINT))',\n",
       " 'Finland_sum(UnitPrice)',\n",
       " 'Finland_sum(CAST(CustomerID AS BIGINT))',\n",
       " 'France_sum(CAST(Quantity AS BIGINT))',\n",
       " 'France_sum(UnitPrice)',\n",
       " 'France_sum(CAST(CustomerID AS BIGINT))',\n",
       " 'Germany_sum(CAST(Quantity AS BIGINT))',\n",
       " 'Germany_sum(UnitPrice)',\n",
       " 'Germany_sum(CAST(CustomerID AS BIGINT))',\n",
       " 'Greece_sum(CAST(Quantity AS BIGINT))',\n",
       " 'Greece_sum(UnitPrice)',\n",
       " 'Greece_sum(CAST(CustomerID AS BIGINT))',\n",
       " 'Hong Kong_sum(CAST(Quantity AS BIGINT))',\n",
       " 'Hong Kong_sum(UnitPrice)',\n",
       " 'Hong Kong_sum(CAST(CustomerID AS BIGINT))',\n",
       " 'Iceland_sum(CAST(Quantity AS BIGINT))',\n",
       " 'Iceland_sum(UnitPrice)',\n",
       " 'Iceland_sum(CAST(CustomerID AS BIGINT))',\n",
       " 'Israel_sum(CAST(Quantity AS BIGINT))',\n",
       " 'Israel_sum(UnitPrice)',\n",
       " 'Israel_sum(CAST(CustomerID AS BIGINT))',\n",
       " 'Italy_sum(CAST(Quantity AS BIGINT))',\n",
       " 'Italy_sum(UnitPrice)',\n",
       " 'Italy_sum(CAST(CustomerID AS BIGINT))',\n",
       " 'Japan_sum(CAST(Quantity AS BIGINT))',\n",
       " 'Japan_sum(UnitPrice)',\n",
       " 'Japan_sum(CAST(CustomerID AS BIGINT))',\n",
       " 'Lebanon_sum(CAST(Quantity AS BIGINT))',\n",
       " 'Lebanon_sum(UnitPrice)',\n",
       " 'Lebanon_sum(CAST(CustomerID AS BIGINT))',\n",
       " 'Lithuania_sum(CAST(Quantity AS BIGINT))',\n",
       " 'Lithuania_sum(UnitPrice)',\n",
       " 'Lithuania_sum(CAST(CustomerID AS BIGINT))',\n",
       " 'Malta_sum(CAST(Quantity AS BIGINT))',\n",
       " 'Malta_sum(UnitPrice)',\n",
       " 'Malta_sum(CAST(CustomerID AS BIGINT))',\n",
       " 'Netherlands_sum(CAST(Quantity AS BIGINT))',\n",
       " 'Netherlands_sum(UnitPrice)',\n",
       " 'Netherlands_sum(CAST(CustomerID AS BIGINT))',\n",
       " 'Norway_sum(CAST(Quantity AS BIGINT))',\n",
       " 'Norway_sum(UnitPrice)',\n",
       " 'Norway_sum(CAST(CustomerID AS BIGINT))',\n",
       " 'Poland_sum(CAST(Quantity AS BIGINT))',\n",
       " 'Poland_sum(UnitPrice)',\n",
       " 'Poland_sum(CAST(CustomerID AS BIGINT))',\n",
       " 'Portugal_sum(CAST(Quantity AS BIGINT))',\n",
       " 'Portugal_sum(UnitPrice)',\n",
       " 'Portugal_sum(CAST(CustomerID AS BIGINT))',\n",
       " 'RSA_sum(CAST(Quantity AS BIGINT))',\n",
       " 'RSA_sum(UnitPrice)',\n",
       " 'RSA_sum(CAST(CustomerID AS BIGINT))',\n",
       " 'Saudi Arabia_sum(CAST(Quantity AS BIGINT))',\n",
       " 'Saudi Arabia_sum(UnitPrice)',\n",
       " 'Saudi Arabia_sum(CAST(CustomerID AS BIGINT))',\n",
       " 'Singapore_sum(CAST(Quantity AS BIGINT))',\n",
       " 'Singapore_sum(UnitPrice)',\n",
       " 'Singapore_sum(CAST(CustomerID AS BIGINT))',\n",
       " 'Spain_sum(CAST(Quantity AS BIGINT))',\n",
       " 'Spain_sum(UnitPrice)',\n",
       " 'Spain_sum(CAST(CustomerID AS BIGINT))',\n",
       " 'Sweden_sum(CAST(Quantity AS BIGINT))',\n",
       " 'Sweden_sum(UnitPrice)',\n",
       " 'Sweden_sum(CAST(CustomerID AS BIGINT))',\n",
       " 'Switzerland_sum(CAST(Quantity AS BIGINT))',\n",
       " 'Switzerland_sum(UnitPrice)',\n",
       " 'Switzerland_sum(CAST(CustomerID AS BIGINT))',\n",
       " 'USA_sum(CAST(Quantity AS BIGINT))',\n",
       " 'USA_sum(UnitPrice)',\n",
       " 'USA_sum(CAST(CustomerID AS BIGINT))',\n",
       " 'United Arab Emirates_sum(CAST(Quantity AS BIGINT))',\n",
       " 'United Arab Emirates_sum(UnitPrice)',\n",
       " 'United Arab Emirates_sum(CAST(CustomerID AS BIGINT))',\n",
       " 'United Kingdom_sum(CAST(Quantity AS BIGINT))',\n",
       " 'United Kingdom_sum(UnitPrice)',\n",
       " 'United Kingdom_sum(CAST(CustomerID AS BIGINT))',\n",
       " 'Unspecified_sum(CAST(Quantity AS BIGINT))',\n",
       " 'Unspecified_sum(UnitPrice)',\n",
       " 'Unspecified_sum(CAST(CustomerID AS BIGINT))']"
      ]
     },
     "execution_count": 217,
     "metadata": {},
     "output_type": "execute_result"
    }
   ],
   "source": [
    "pivoted.columns"
   ]
  },
  {
   "cell_type": "code",
   "execution_count": null,
   "metadata": {},
   "outputs": [],
   "source": []
  }
 ],
 "metadata": {
  "kernelspec": {
   "display_name": "Python 3",
   "language": "python",
   "name": "python3"
  },
  "language_info": {
   "codemirror_mode": {
    "name": "ipython",
    "version": 3
   },
   "file_extension": ".py",
   "mimetype": "text/x-python",
   "name": "python",
   "nbconvert_exporter": "python",
   "pygments_lexer": "ipython3",
   "version": "3.6.8"
  }
 },
 "nbformat": 4,
 "nbformat_minor": 4
}
