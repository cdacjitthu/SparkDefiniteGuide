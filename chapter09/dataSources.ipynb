{
 "cells": [
  {
   "cell_type": "markdown",
   "metadata": {},
   "source": [
    "## Data sources:\n",
    "   - Spark related data sources\n",
    "     * CSV, JSON, Parquet, ORC, JDBC/ODBC connections, Plain-text files\n",
    "   - Community relaed data sources\n",
    "     * Cassandra, HBase, MongoDB, AWS Redshift, XML etc..."
   ]
  },
  {
   "cell_type": "code",
   "execution_count": 1,
   "metadata": {},
   "outputs": [],
   "source": [
    "from pyspark.sql import SparkSession, SQLContext\n",
    "spark = SparkSession\\\n",
    "   .builder\\\n",
    "   .master(\"local[2]\")\\\n",
    "   .appName(\"SGD_Chapter09\")\\\n",
    "   .getOrCreate()\n",
    "sc = spark.sparkContext\n",
    "sqlContext = SQLContext(spark)"
   ]
  },
  {
   "cell_type": "markdown",
   "metadata": {},
   "source": [
    "### DataFrameReader.format(...).option(\"key\", \"value\").schema.load()\n",
    "   - The default format file is parquet and it is an optional in the the spark"
   ]
  },
  {
   "cell_type": "code",
   "execution_count": null,
   "metadata": {},
   "outputs": [],
   "source": []
  }
 ],
 "metadata": {
  "kernelspec": {
   "display_name": "Python 3",
   "language": "python",
   "name": "python3"
  },
  "language_info": {
   "codemirror_mode": {
    "name": "ipython",
    "version": 3
   },
   "file_extension": ".py",
   "mimetype": "text/x-python",
   "name": "python",
   "nbconvert_exporter": "python",
   "pygments_lexer": "ipython3",
   "version": "3.6.8"
  }
 },
 "nbformat": 4,
 "nbformat_minor": 4
}
